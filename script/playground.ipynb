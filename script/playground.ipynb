{
 "cells": [
  {
   "cell_type": "code",
   "execution_count": null,
   "metadata": {
    "dotnet_interactive": {
     "language": "fsharp"
    },
    "vscode": {
     "languageId": "dotnet-interactive.fsharp"
    }
   },
   "outputs": [],
   "source": [
    "#r \"InfoSysCrawler/bin/Debug/net6.0/InfoSysCrawler\"\n",
    "#r \"InfoSysCrawler/FSharp.Json.dll\"\n",
    "\n",
    "open FSharp.Json\n",
    "open InfoSysCrawler.Analyses\n",
    "open InfoSysCrawler.SiteMap\n",
    "open InfoSysCrawler.Request\n"
   ]
  },
  {
   "cell_type": "code",
   "execution_count": null,
   "metadata": {
    "dotnet_interactive": {
     "language": "fsharp"
    },
    "vscode": {
     "languageId": "dotnet-interactive.fsharp"
    }
   },
   "outputs": [],
   "source": [
    "\n",
    "// let url = (Url \"https://infosys.beckhoff.com/english/menu/menu.php?id=8644252870837316006\") // TC1xxx - TwinCAT 3 base // 5 s\n",
    "// let url = (Url \"https://infosys.beckhoff.com/english/menu/menu.php?id=8063276869205618704\") // plc libraries // 8 mins\n",
    "// let url = (Url \"https://infosys.beckhoff.com/english/menu/menu.php?id=4362125870657286805\") // tfxxxx // 40 mins\n",
    "// let url = (Url \"https://infosys.beckhoff.com/english/menu/menu.php?id=6455946414529289984\") // texxxx // 24 min\n",
    "// Add folder names you do not want to into\n",
    "let ignoreFolders = [\"Foreword\"; \"Installation\"; \"Samples\"]\n",
    "// Add pages which you do not want to look for a twincat version number\n",
    "let ignorePages = [\"Overview\"; \"Search\"]\n",
    "// Start crawling\n",
    "let menu = traverseMenu ignoreFolders ignorePages url"
   ]
  },
  {
   "cell_type": "code",
   "execution_count": null,
   "metadata": {
    "dotnet_interactive": {
     "language": "fsharp"
    },
    "vscode": {
     "languageId": "dotnet-interactive.fsharp"
    }
   },
   "outputs": [],
   "source": [
    "let (Url u) = url\n",
    "let filename =\n",
    "    match u.Split(\"=\") |> Array.last with\n",
    "    | \"8644252870837316006\" -> \"tc1xxx.json\"\n",
    "    | \"4362125870657286805\" -> \"tfxxxx.json\"\n",
    "    | \"6455946414529289984\" -> \"texxxx.json\"\n",
    "    | \"8063276869205618704\" -> \"plc_libraries.json\"\n",
    "    | _ -> failwith \"URL not recognized\"\n",
    "\n",
    "menu |> saveAsJson $\"../data/{filename}\""
   ]
  },
  {
   "cell_type": "code",
   "execution_count": null,
   "metadata": {
    "dotnet_interactive": {
     "language": "fsharp"
    },
    "vscode": {
     "languageId": "dotnet-interactive.fsharp"
    }
   },
   "outputs": [],
   "source": [
    "let deserialized = Json.deserialize<Node list> (File.ReadAllText(\"../data/texxxx.json\"))\n",
    "\n",
    "let changelog = \n",
    "    deserialized\n",
    "    |> getPages\n",
    "    |> groupByVersionNumber\n",
    "    |> List.map (fun (version, pages) -> \n",
    "        [$\"\\n## Version {version}\\n\\n### Features\\n\"] \n",
    "        @ (pages |> List.map (fun page -> $\"- Added: {page |> toMarkDownLink}\")))\n",
    "    |> List.concat\n",
    "\n",
    "File.WriteAllLines(\"changelog_texxxx.md\", changelog)"
   ]
  },
  {
   "cell_type": "code",
   "execution_count": null,
   "metadata": {
    "dotnet_interactive": {
     "language": "fsharp"
    },
    "vscode": {
     "languageId": "dotnet-interactive.fsharp"
    }
   },
   "outputs": [],
   "source": [
    "let deserialized = Json.deserialize<Node list> (File.ReadAllText(\"../data/tc1xxx.json\"))\n",
    "\n",
    "let changelog = \n",
    "    deserialized\n",
    "    |> getPages\n",
    "    |> groupByVersionNumber\n",
    "    |> List.map (fun (version, pages) -> \n",
    "        [$\"\\n## Version {version}\\n\\n### Features\\n\"] \n",
    "        @ (pages |> List.map (fun page -> $\"- Added: {page |> toMarkDownLink}\")))\n",
    "    |> List.concat\n",
    "\n",
    "File.WriteAllLines(\"changelog_tc1xxx.md\", changelog)"
   ]
  },
  {
   "cell_type": "code",
   "execution_count": null,
   "metadata": {
    "dotnet_interactive": {
     "language": "fsharp"
    },
    "vscode": {
     "languageId": "dotnet-interactive.fsharp"
    }
   },
   "outputs": [],
   "source": [
    "let deserialized = Json.deserialize<Node list> (File.ReadAllText(\"../data/plc_libraries.json\"))\n",
    "\n",
    "let changelog = \n",
    "    deserialized\n",
    "    |> getPages\n",
    "    |> groupByVersionNumber\n",
    "    |> List.map (fun (version, pages) -> \n",
    "        [$\"\\n## Version {version}\\n\\n### Features\\n\"] \n",
    "        @ (pages |> List.map (fun page -> $\"- Added: {page |> toMarkDownLink}\")))\n",
    "    |> List.concat\n",
    "\n",
    "File.WriteAllLines(\"changelog_plc_libraries.md\", changelog)"
   ]
  },
  {
   "cell_type": "code",
   "execution_count": null,
   "metadata": {
    "dotnet_interactive": {
     "language": "fsharp"
    },
    "vscode": {
     "languageId": "dotnet-interactive.fsharp"
    }
   },
   "outputs": [],
   "source": [
    "let changelog = \n",
    "    deserialized\n",
    "    |> getPages\n",
    "    |> groupByVersionNumber\n",
    "    |> List.map (fun (version, pages) -> \n",
    "        [$\"\\n## Version {version}\\n\\n### Features\\n\"] \n",
    "        @ (pages |> List.map (fun page -> $\"- Added: {page |> toMarkDownLink}\")))\n",
    "    |> List.concat\n",
    "\n",
    "File.WriteAllLines(\"changelog_tfxxxx.md\", changelog)"
   ]
  },
  {
   "cell_type": "code",
   "execution_count": null,
   "metadata": {
    "dotnet_interactive": {
     "language": "fsharp"
    },
    "vscode": {
     "languageId": "dotnet-interactive.fsharp"
    }
   },
   "outputs": [],
   "source": []
  }
 ],
 "metadata": {
  "interpreter": {
   "hash": "48a1ab54d30447ef9362f121c03913afd5265f0d2e15920ba74f9f1e262612f4"
  },
  "kernelspec": {
   "display_name": ".NET (C#)",
   "language": "C#",
   "name": ".net-csharp"
  },
  "language_info": {
   "file_extension": ".cs",
   "mimetype": "text/x-csharp",
   "name": "C#",
   "pygments_lexer": "csharp",
   "version": "9.0"
  }
 },
 "nbformat": 4,
 "nbformat_minor": 2
}
